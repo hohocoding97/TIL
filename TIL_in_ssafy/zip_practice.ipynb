{
 "cells": [
  {
   "cell_type": "markdown",
   "metadata": {},
   "source": [
    "# zip함수 써보기"
   ]
  },
  {
   "cell_type": "markdown",
   "metadata": {},
   "source": [
    "`zip(*iterables)`"
   ]
  },
  {
   "cell_type": "markdown",
   "metadata": {},
   "source": [
    "zip함수를 print하면 zip object가 출력이 된다.\n",
    "왜냐하면 굉장히 길이간 긴 iterables들을 zip하게 되면 그 또한 굉장히 길게되고.. 많은 메모리를 사용하게 될것\n",
    "따라서 메모리를 적게 차지하는 zip object로 생성함. map도 마찬가지로 map object를 생성함."
   ]
  },
  {
   "cell_type": "code",
   "execution_count": 6,
   "metadata": {},
   "outputs": [
    {
     "name": "stdout",
     "output_type": "stream",
     "text": [
      "<zip object at 0x0000021D74796580>\n"
     ]
    }
   ],
   "source": [
    "A = ['a', 'hojun', 2 , 9]\n",
    "B = [1,'!', 4, 'z' , [2,3,4,5,6]]\n",
    "C = [{'a' : 'b'}, 1, 7, 'a']\n",
    "print(zip(A,B,C))"
   ]
  },
  {
   "cell_type": "code",
   "execution_count": 1,
   "metadata": {},
   "outputs": [
    {
     "name": "stdout",
     "output_type": "stream",
     "text": [
      "[('a', 1, {'a': 'b'}), ('hojun', '!', 1), (2, 4, 7), (9, 'z', 'a')]\n"
     ]
    }
   ],
   "source": [
    "A = ['a', 'hojun', 2 , 9]\n",
    "B = [1,'!', 4, 'z' , [2,3,4,5,6]]\n",
    "C = [{'a' : 'b'}, 1, 7, 'a']\n",
    "print(list(zip(A,B,C)))"
   ]
  },
  {
   "cell_type": "code",
   "execution_count": 4,
   "metadata": {},
   "outputs": [
    {
     "name": "stdout",
     "output_type": "stream",
     "text": [
      "[('a', 1, {'a': 'b'}), ('hojun', '!', 1), (2, 4, 7), (9, 'z', 'a')]\n"
     ]
    }
   ],
   "source": [
    "A = ('a', 'hojun', 2 , 9)\n",
    "B = [1,'!', 4, 'z' , [2,3,4,5,6]]\n",
    "C = [{'a' : 'b'}, 1, 7, 'a']\n",
    "print(list(zip(A,B,C)))"
   ]
  },
  {
   "cell_type": "code",
   "execution_count": 5,
   "metadata": {},
   "outputs": [
    {
     "name": "stdout",
     "output_type": "stream",
     "text": [
      "(('a', 1, {'a': 'b'}), ('hojun', '!', 1), (2, 4, 7), (9, 'z', 'a'))\n"
     ]
    }
   ],
   "source": [
    "A = ['a', 'hojun', 2 , 9]\n",
    "B = [1,'!', 4, 'z' , [2,3,4,5,6]]\n",
    "C = [{'a' : 'b'}, 1, 7, 'a']\n",
    "print(tuple(zip(A,B,C)))"
   ]
  },
  {
   "cell_type": "markdown",
   "metadata": {},
   "source": [
    "zip을 이용해 딕셔너리 만들기"
   ]
  },
  {
   "cell_type": "code",
   "execution_count": 17,
   "metadata": {},
   "outputs": [
    {
     "name": "stdout",
     "output_type": "stream",
     "text": [
      "{'hojun': 30, 'junho': 20, 'cheolsu': 25}\n"
     ]
    }
   ],
   "source": [
    "name = ['hojun','junho','cheolsu']\n",
    "age = [30, 20, 25]\n",
    "name_age_dict = dict(zip(name,age))\n",
    "print(name_age_dict)"
   ]
  },
  {
   "cell_type": "code",
   "execution_count": null,
   "metadata": {},
   "outputs": [],
   "source": [
    "name = ['hojun','junho','cheolsu']\n",
    "age = [30, 20, 25]\n",
    "map(lambda name, age, i : dict((name[i]=age[i])), name, hojun, [1, 2, 3])"
   ]
  },
  {
   "cell_type": "markdown",
   "metadata": {},
   "source": [
    "## map함수 써보기\n",
    "`map(함수, iterables)`"
   ]
  },
  {
   "cell_type": "code",
   "execution_count": 11,
   "metadata": {},
   "outputs": [
    {
     "name": "stdout",
     "output_type": "stream",
     "text": [
      "<map object at 0x0000021D75B82580>\n",
      "tt abc edsd k\n",
      "['tt', 'abc', 'edsd', 'k']\n"
     ]
    }
   ],
   "source": [
    "inputtt = 'tt abc edsd k'\n",
    "print(map(str, inputtt.split()))\n",
    "print(inputtt)\n",
    "print(list(map(str, inputtt.split())))"
   ]
  },
  {
   "cell_type": "code",
   "execution_count": null,
   "metadata": {},
   "outputs": [],
   "source": []
  },
  {
   "cell_type": "markdown",
   "metadata": {},
   "source": [
    "## lambda 함수\n",
    "구조 `lambda 매개변수 : 표현식`"
   ]
  },
  {
   "cell_type": "code",
   "execution_count": 12,
   "metadata": {},
   "outputs": [
    {
     "name": "stdout",
     "output_type": "stream",
     "text": [
      "8\n"
     ]
    }
   ],
   "source": [
    "addition = lambda x,y : x+y\n",
    "result = addition(3,5)\n",
    "print(result)"
   ]
  },
  {
   "cell_type": "code",
   "execution_count": 14,
   "metadata": {},
   "outputs": [
    {
     "name": "stdout",
     "output_type": "stream",
     "text": [
      "[1, 4, 9, 16, 25]\n"
     ]
    }
   ],
   "source": [
    "numbers = [1,2,3,4,5]\n",
    "result = list(map(lambda x: x**2, numbers))\n",
    "print(result)"
   ]
  },
  {
   "cell_type": "code",
   "execution_count": 16,
   "metadata": {},
   "outputs": [
    {
     "name": "stdout",
     "output_type": "stream",
     "text": [
      "{'hojun': 30, 'junho': 20, 'cheolsu': 25}\n"
     ]
    }
   ],
   "source": []
  }
 ],
 "metadata": {
  "kernelspec": {
   "display_name": "python_ex",
   "language": "python",
   "name": "python3"
  },
  "language_info": {
   "codemirror_mode": {
    "name": "ipython",
    "version": 3
   },
   "file_extension": ".py",
   "mimetype": "text/x-python",
   "name": "python",
   "nbconvert_exporter": "python",
   "pygments_lexer": "ipython3",
   "version": "3.9.12"
  }
 },
 "nbformat": 4,
 "nbformat_minor": 2
}
