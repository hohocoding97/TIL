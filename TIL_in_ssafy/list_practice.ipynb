{
 "cells": [
  {
   "cell_type": "markdown",
   "metadata": {},
   "source": [
    "# 얕은 복사와 깊은 복사 이해하기"
   ]
  },
  {
   "cell_type": "markdown",
   "metadata": {},
   "source": [
    "#### 리스트 최대 요소 수가 정해져 있을 때 길이가 정해진 빈 리스트 생성"
   ]
  },
  {
   "cell_type": "code",
   "execution_count": 8,
   "metadata": {},
   "outputs": [
    {
     "name": "stdout",
     "output_type": "stream",
     "text": [
      "[None, None, None, None, None, None, None, None, None, None]\n",
      "None\n"
     ]
    }
   ],
   "source": [
    "alphabet = list([None]*10)\n",
    "print(alphabet)\n",
    "print(alphabet[0])"
   ]
  },
  {
   "cell_type": "code",
   "execution_count": 6,
   "metadata": {},
   "outputs": [
    {
     "name": "stdout",
     "output_type": "stream",
     "text": [
      "[3, 4]\n"
     ]
    }
   ],
   "source": [
    "alphabet = list([None]*10)\n",
    "alphabet =[3,4]\n",
    "print(alphabet)"
   ]
  },
  {
   "cell_type": "markdown",
   "metadata": {},
   "source": [
    "리스트는 각 요소들의 값을 변경가능"
   ]
  },
  {
   "cell_type": "code",
   "execution_count": 7,
   "metadata": {},
   "outputs": [
    {
     "name": "stdout",
     "output_type": "stream",
     "text": [
      "[3, None, None, None, None, None, None, None, None, None]\n"
     ]
    }
   ],
   "source": [
    "alphabet = list([None]*10)\n",
    "alphabet[0] =3\n",
    "print(alphabet)"
   ]
  },
  {
   "cell_type": "code",
   "execution_count": 9,
   "metadata": {},
   "outputs": [
    {
     "name": "stdout",
     "output_type": "stream",
     "text": [
      "[[None, None, None, None, None, None, None, None, None, None], [None, None, None, None, None, None, None, None, None, None], [None, None, None, None, None, None, None, None, None, None], [None, None, None, None, None, None, None, None, None, None], [None, None, None, None, None, None, None, None, None, None]]\n"
     ]
    }
   ],
   "source": [
    "matrix = list([[None]*10]*5)\n",
    "print(matrix)"
   ]
  },
  {
   "cell_type": "markdown",
   "metadata": {},
   "source": [
    "### 2중 리스트 요소를 넣어 선언하기"
   ]
  },
  {
   "cell_type": "code",
   "execution_count": 1,
   "metadata": {},
   "outputs": [
    {
     "name": "stdout",
     "output_type": "stream",
     "text": [
      "1276696323328\n",
      "1276696323328\n",
      "1276696323328\n",
      "1276696323328\n",
      "1276696323328\n"
     ]
    }
   ],
   "source": [
    "\n",
    "matrix = list([[None]*10]*5) #최대행과 최대열이 각 5,10 인 2차원 배열 생성\n",
    "for row in range(5):\n",
    "    print(id(matrix[row])) #각 행의 메모리 주소 확인"
   ]
  },
  {
   "cell_type": "markdown",
   "metadata": {},
   "source": [
    "위를 보면 `matrix = list([[None]*10]*5)`같은 방법으로 2중 배열을 만들었을 때 행이 바뀌더라도 같은 메모리 주소를 가지고 있는 것을 알 수 있다."
   ]
  },
  {
   "cell_type": "code",
   "execution_count": 2,
   "metadata": {},
   "outputs": [
    {
     "name": "stdout",
     "output_type": "stream",
     "text": [
      "[None, None, None, 7, None, None, None, None, None, None]\n",
      "[None, None, None, 7, None, None, None, None, None, None]\n",
      "[None, None, None, 7, None, None, None, None, None, None]\n",
      "[None, None, None, 7, None, None, None, None, None, None]\n",
      "[None, None, None, 7, None, None, None, None, None, None]\n"
     ]
    }
   ],
   "source": [
    "matrix = list([[None]*15]*5) #최대행과 최대열이 각 5,10 인 2차원 배열 생성\n",
    "matrix[3][3] = 7 #일부요소값만 변경\n",
    "for row in range(5):\n",
    "    print(matrix[row]) #내용 확인"
   ]
  },
  {
   "cell_type": "markdown",
   "metadata": {},
   "source": [
    "각 행에 해당하는 리스트들은 같은 메모리 주소의 값을 참조하는 것을 알고 있다.\n",
    "\n",
    "즉 이는 **얕은 복사**로 인해 발생한 일임을 알 수 있다.\n",
    "\n",
    "이를 해결하기 위해서는  아래와 같이 하면 된다."
   ]
  },
  {
   "cell_type": "code",
   "execution_count": 10,
   "metadata": {},
   "outputs": [
    {
     "name": "stdout",
     "output_type": "stream",
     "text": [
      "[None, None, None, None, None, None, None, None, None, None, None, None, None, None, None]\n",
      "[None, 7, None, None, None, None, None, None, None, None, None, None, None, None, None]\n",
      "[None, None, None, None, None, None, None, None, None, None, None, None, None, None, None]\n",
      "[None, None, None, None, None, None, None, None, None, None, None, None, None, None, None]\n",
      "[None, None, None, None, None, None, None, None, None, None, None, None, None, None, None]\n"
     ]
    }
   ],
   "source": [
    "matrix = [[None]*15 for _ in range(5)]\n",
    "matrix[1][1] = 7 #일부요소값만 변경\n",
    "for row in range(5):\n",
    "    print(matrix[row]) #각 행의 메모리 주소 확인"
   ]
  },
  {
   "cell_type": "markdown",
   "metadata": {},
   "source": [
    "이 때는 다른 결과가 나타난다."
   ]
  },
  {
   "cell_type": "code",
   "execution_count": null,
   "metadata": {},
   "outputs": [],
   "source": []
  }
 ],
 "metadata": {
  "kernelspec": {
   "display_name": "python_ex",
   "language": "python",
   "name": "python3"
  },
  "language_info": {
   "codemirror_mode": {
    "name": "ipython",
    "version": 3
   },
   "file_extension": ".py",
   "mimetype": "text/x-python",
   "name": "python",
   "nbconvert_exporter": "python",
   "pygments_lexer": "ipython3",
   "version": "3.9.12"
  }
 },
 "nbformat": 4,
 "nbformat_minor": 2
}
